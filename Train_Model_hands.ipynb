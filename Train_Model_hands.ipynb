{
 "cells": [
  {
   "cell_type": "code",
   "execution_count": 1,
   "metadata": {},
   "outputs": [],
   "source": [
    "import os\n",
    "import numpy as np\n",
    "import time\n",
    "from sklearn.model_selection import train_test_split\n",
    "from tensorflow.keras.utils import to_categorical"
   ]
  },
  {
   "attachments": {},
   "cell_type": "markdown",
   "metadata": {},
   "source": [
    "## Load Data"
   ]
  },
  {
   "cell_type": "code",
   "execution_count": 2,
   "metadata": {},
   "outputs": [
    {
     "ename": "FileNotFoundError",
     "evalue": "[Errno 2] No such file or directory: 'TESTDATA/0/0/0.npy'",
     "output_type": "error",
     "traceback": [
      "\u001b[0;31m---------------------------------------------------------------------------\u001b[0m",
      "\u001b[0;31mFileNotFoundError\u001b[0m                         Traceback (most recent call last)",
      "Cell \u001b[0;32mIn[2], line 14\u001b[0m\n\u001b[1;32m     12\u001b[0m         \u001b[39mfor\u001b[39;00m k \u001b[39min\u001b[39;00m \u001b[39mrange\u001b[39m(\u001b[39m1\u001b[39m,\u001b[39m30\u001b[39m\u001b[39m+\u001b[39m\u001b[39m1\u001b[39m):\n\u001b[1;32m     13\u001b[0m             real_path \u001b[39m=\u001b[39m (os\u001b[39m.\u001b[39mpath\u001b[39m.\u001b[39mjoin(DATA_PATH, \u001b[39mstr\u001b[39m(k\u001b[39m-\u001b[39m\u001b[39m1\u001b[39m)\u001b[39m+\u001b[39m\u001b[39m'\u001b[39m\u001b[39m.npy\u001b[39m\u001b[39m'\u001b[39m))\n\u001b[0;32m---> 14\u001b[0m             real_data \u001b[39m=\u001b[39m np\u001b[39m.\u001b[39;49mload(real_path, allow_pickle\u001b[39m=\u001b[39;49m\u001b[39mTrue\u001b[39;49;00m)\n\u001b[1;32m     15\u001b[0m             temp[total][k\u001b[39m-\u001b[39m\u001b[39m1\u001b[39m] \u001b[39m=\u001b[39m real_data\n\u001b[1;32m     17\u001b[0m np\u001b[39m.\u001b[39msave(\u001b[39m'\u001b[39m\u001b[39mdata-merge-0713.npy\u001b[39m\u001b[39m'\u001b[39m, temp)\n",
      "File \u001b[0;32m/Library/Frameworks/Python.framework/Versions/3.11/lib/python3.11/site-packages/numpy/lib/npyio.py:405\u001b[0m, in \u001b[0;36mload\u001b[0;34m(file, mmap_mode, allow_pickle, fix_imports, encoding, max_header_size)\u001b[0m\n\u001b[1;32m    403\u001b[0m     own_fid \u001b[39m=\u001b[39m \u001b[39mFalse\u001b[39;00m\n\u001b[1;32m    404\u001b[0m \u001b[39melse\u001b[39;00m:\n\u001b[0;32m--> 405\u001b[0m     fid \u001b[39m=\u001b[39m stack\u001b[39m.\u001b[39menter_context(\u001b[39mopen\u001b[39;49m(os_fspath(file), \u001b[39m\"\u001b[39;49m\u001b[39mrb\u001b[39;49m\u001b[39m\"\u001b[39;49m))\n\u001b[1;32m    406\u001b[0m     own_fid \u001b[39m=\u001b[39m \u001b[39mTrue\u001b[39;00m\n\u001b[1;32m    408\u001b[0m \u001b[39m# Code to distinguish from NumPy binary files and pickles.\u001b[39;00m\n",
      "\u001b[0;31mFileNotFoundError\u001b[0m: [Errno 2] No such file or directory: 'TESTDATA/0/0/0.npy'"
     ]
    }
   ],
   "source": [
    "path = 'TESTDATA'\n",
    "actions = np.array(['0', '1', '2', '3', '4', '5', '6', '7', '8', '9', 'check', 'finish', 'give_you', 'good', 'i', 'id_card', 'is', 'money', 'saving_book', 'sign', 'taiwan', 'take', 'ten_thousand', 'yes'])\n",
    "sequence = 115\n",
    "total = -1\n",
    "temp = np.ones([2760,30,258])\n",
    "\n",
    "for i in range(1,len(actions)+1):\n",
    "    ACTION_PATH = os.path.join(path, actions[i-1])\n",
    "    for j in range(1,sequence+1):\n",
    "        total += 1\n",
    "        DATA_PATH = os.path.join(ACTION_PATH, str(j-1))\n",
    "        for k in range(1,30+1):\n",
    "            real_path = (os.path.join(DATA_PATH, str(k-1)+'.npy'))\n",
    "            real_data = np.load(real_path, allow_pickle=True)\n",
    "            temp[total][k-1] = real_data\n",
    "\n",
    "np.save('data-merge-0713.npy', temp)"
   ]
  },
  {
   "cell_type": "code",
   "execution_count": 67,
   "metadata": {},
   "outputs": [
    {
     "data": {
      "text/plain": [
       "(3105, 30, 126)"
      ]
     },
     "execution_count": 67,
     "metadata": {},
     "output_type": "execute_result"
    }
   ],
   "source": [
    "# 1. 打包模組需要的 Dataset\n",
    "sequences = np.load(os.path.join('data-merge-0713.npy'))\n",
    "headsSequences = sequences[:, :, 132:258] #132:258\n",
    "headsSequences.shape"
   ]
  },
  {
   "cell_type": "code",
   "execution_count": 123,
   "metadata": {},
   "outputs": [
    {
     "name": "stdout",
     "output_type": "stream",
     "text": [
      "{'0': 0, '1': 1, '2': 2, '3': 3, '4': 4, '5': 5, '6': 6, '7': 7, '8': 8, '9': 9, 'check': 10, 'finish': 11, 'give_you': 12, 'good': 13, 'i': 14, 'id_card': 15, 'is': 16, 'money': 17, 'saving_book': 18, 'sign': 19, 'taiwan': 20, 'take': 21, 'ten_thousand': 22, 'yes': 23, 'deposit': 24, 'get': 25, 'job': 26}\n",
      "27\n"
     ]
    }
   ],
   "source": [
    "# 2. 模組需要的字詞 Labels\n",
    "actions = np.array(['0', '1', '2', '3', '4', '5', '6', '7', '8', '9', 'check', 'finish', 'give_you', 'good', 'i', 'id_card', 'is', 'money', 'saving_book', 'sign', 'taiwan', 'take', 'ten_thousand', 'yes','deposit','get','job'])\n",
    "\n",
    "\n",
    "label_map = {label:num for num, label in enumerate(actions)}\n",
    "print(label_map)\n",
    "print(actions.shape[0])"
   ]
  },
  {
   "cell_type": "code",
   "execution_count": 69,
   "metadata": {},
   "outputs": [
    {
     "name": "stdout",
     "output_type": "stream",
     "text": [
      "[['0', 0], ['1', 1], ['2', 2], ['3', 3], ['4', 4], ['5', 5], ['6', 6], ['7', 7], ['8', 8], ['9', 9], ['check', 10], ['finish', 11], ['give_you', 12], ['good', 13], ['i', 14], ['id_card', 15], ['is', 16], ['money', 17], ['saving_book', 18], ['sign', 19], ['taiwan', 20], ['take', 21], ['ten_thousand', 22], ['yes', 23], ['job', 24], ['deposit', 25], ['get', 26]]\n"
     ]
    }
   ],
   "source": [
    "# 115 是每個字詞的資料量，可以再修改\n",
    "labels = []\n",
    "for action in actions:\n",
    "    for _ in range(115):\n",
    "        labels.append(label_map[action])\n",
    "print([[actions[l], l] for l in labels[::115]])"
   ]
  },
  {
   "cell_type": "code",
   "execution_count": 70,
   "metadata": {},
   "outputs": [
    {
     "name": "stdout",
     "output_type": "stream",
     "text": [
      "(3105, 30, 126)\n",
      "(2794, 30, 126)\n",
      "(311, 30, 126)\n"
     ]
    }
   ],
   "source": [
    "# Reshape (-1,30,258) 是讓所有的資料變成z:258, y:30 的array\n",
    "X = headsSequences.reshape(-1,30,126) #258\n",
    "y = to_categorical(labels).astype(int)\n",
    "X_train, X_test, y_train, y_test = train_test_split(X, y, test_size=0.1)\n",
    "print(X.shape)\n",
    "print(X_train.shape)\n",
    "print(X_test.shape)"
   ]
  },
  {
   "attachments": {},
   "cell_type": "markdown",
   "metadata": {},
   "source": [
    "# Train model "
   ]
  },
  {
   "cell_type": "code",
   "execution_count": 71,
   "metadata": {},
   "outputs": [],
   "source": [
    "from tensorflow.keras.models import Sequential\n",
    "from tensorflow.keras.layers import LSTM, Dense, GRU\n",
    "from tensorflow.keras.callbacks import TensorBoard, EarlyStopping"
   ]
  },
  {
   "cell_type": "code",
   "execution_count": 74,
   "metadata": {},
   "outputs": [
    {
     "name": "stdout",
     "output_type": "stream",
     "text": [
      "Model: \"sequential_6\"\n",
      "_________________________________________________________________\n",
      " Layer (type)                Output Shape              Param #   \n",
      "=================================================================\n",
      " gru_12 (GRU)                (None, 30, 128)           98304     \n",
      "                                                                 \n",
      " gru_13 (GRU)                (None, 64)                37248     \n",
      "                                                                 \n",
      " dense_14 (Dense)            (None, 64)                4160      \n",
      "                                                                 \n",
      " dense_15 (Dense)            (None, 32)                2080      \n",
      "                                                                 \n",
      " dense_16 (Dense)            (None, 27)                891       \n",
      "                                                                 \n",
      "=================================================================\n",
      "Total params: 142683 (557.36 KB)\n",
      "Trainable params: 142683 (557.36 KB)\n",
      "Non-trainable params: 0 (0.00 Byte)\n",
      "_________________________________________________________________\n"
     ]
    }
   ],
   "source": [
    "model = Sequential()\n",
    "model.add(GRU(128, activation='relu', input_shape=(30,126),return_sequences=True)) # LSTM -> GRU\n",
    "model.add(GRU(64, activation='relu', input_shape=(30,126)))\n",
    "model.add(Dense(64, activation='relu'))\n",
    "model.add(Dense(32, activation='relu'))\n",
    "model.add(Dense(actions.shape[0], activation='softmax'))\n",
    "model.compile(optimizer='Adam', loss='categorical_crossentropy', metrics=['categorical_accuracy'])\n",
    "model.summary()"
   ]
  },
  {
   "cell_type": "code",
   "execution_count": 75,
   "metadata": {},
   "outputs": [
    {
     "name": "stdout",
     "output_type": "stream",
     "text": [
      "Epoch 1/50\n",
      "88/88 [==============================] - 3s 17ms/step - loss: 3.0108 - categorical_accuracy: 0.1067\n",
      "Epoch 2/50\n",
      "88/88 [==============================] - 2s 19ms/step - loss: 2.5642 - categorical_accuracy: 0.1858\n",
      "Epoch 3/50\n",
      "88/88 [==============================] - 2s 19ms/step - loss: 2.2449 - categorical_accuracy: 0.2212\n",
      "Epoch 4/50\n",
      "88/88 [==============================] - 2s 20ms/step - loss: 2.0643 - categorical_accuracy: 0.2709\n",
      "Epoch 5/50\n",
      "88/88 [==============================] - 2s 19ms/step - loss: 1.8813 - categorical_accuracy: 0.3228\n",
      "Epoch 6/50\n",
      "88/88 [==============================] - 2s 19ms/step - loss: 1.7703 - categorical_accuracy: 0.3558\n",
      "Epoch 7/50\n",
      "88/88 [==============================] - 2s 19ms/step - loss: 1.5323 - categorical_accuracy: 0.4424\n",
      "Epoch 8/50\n",
      "88/88 [==============================] - 2s 19ms/step - loss: 1.3636 - categorical_accuracy: 0.5122\n",
      "Epoch 9/50\n",
      "88/88 [==============================] - 2s 19ms/step - loss: 1.2258 - categorical_accuracy: 0.5329\n",
      "Epoch 10/50\n",
      "88/88 [==============================] - 2s 19ms/step - loss: 1.0136 - categorical_accuracy: 0.6188\n",
      "Epoch 11/50\n",
      "88/88 [==============================] - 2s 20ms/step - loss: 0.8419 - categorical_accuracy: 0.6747\n",
      "Epoch 12/50\n",
      "88/88 [==============================] - 2s 19ms/step - loss: 0.8379 - categorical_accuracy: 0.6747\n",
      "Epoch 13/50\n",
      "88/88 [==============================] - 2s 20ms/step - loss: 0.6847 - categorical_accuracy: 0.7291\n",
      "Epoch 14/50\n",
      "88/88 [==============================] - 2s 19ms/step - loss: 0.6090 - categorical_accuracy: 0.7677\n",
      "Epoch 15/50\n",
      "88/88 [==============================] - 2s 20ms/step - loss: 0.8462 - categorical_accuracy: 0.6986\n",
      "Epoch 16/50\n",
      "88/88 [==============================] - 2s 19ms/step - loss: 0.4991 - categorical_accuracy: 0.8078\n",
      "Epoch 17/50\n",
      "88/88 [==============================] - 2s 19ms/step - loss: 0.4673 - categorical_accuracy: 0.8221\n",
      "Epoch 18/50\n",
      "88/88 [==============================] - 2s 19ms/step - loss: 0.4410 - categorical_accuracy: 0.8296\n",
      "Epoch 19/50\n",
      "88/88 [==============================] - 2s 19ms/step - loss: 0.3711 - categorical_accuracy: 0.8561\n",
      "Epoch 20/50\n",
      "88/88 [==============================] - 2s 19ms/step - loss: 0.3527 - categorical_accuracy: 0.8615\n",
      "Epoch 21/50\n",
      "88/88 [==============================] - 2s 19ms/step - loss: 0.2972 - categorical_accuracy: 0.8837\n",
      "Epoch 22/50\n",
      "88/88 [==============================] - 2s 19ms/step - loss: 0.3205 - categorical_accuracy: 0.8840\n",
      "Epoch 23/50\n",
      "88/88 [==============================] - 2s 19ms/step - loss: 0.2837 - categorical_accuracy: 0.8941\n",
      "Epoch 24/50\n",
      "88/88 [==============================] - 2s 19ms/step - loss: 0.2601 - categorical_accuracy: 0.9030\n",
      "Epoch 25/50\n",
      "88/88 [==============================] - 2s 19ms/step - loss: 0.2260 - categorical_accuracy: 0.9141\n",
      "Epoch 26/50\n",
      "88/88 [==============================] - 2s 19ms/step - loss: 0.2294 - categorical_accuracy: 0.9180\n",
      "Epoch 27/50\n",
      "88/88 [==============================] - 2s 19ms/step - loss: 0.1844 - categorical_accuracy: 0.9331\n",
      "Epoch 28/50\n",
      "88/88 [==============================] - 2s 19ms/step - loss: 0.2206 - categorical_accuracy: 0.9152\n",
      "Epoch 29/50\n",
      "88/88 [==============================] - 2s 19ms/step - loss: 0.2180 - categorical_accuracy: 0.9155\n",
      "Epoch 30/50\n",
      "88/88 [==============================] - 2s 20ms/step - loss: 0.1985 - categorical_accuracy: 0.9270\n"
     ]
    },
    {
     "data": {
      "text/plain": [
       "<keras.src.callbacks.History at 0x2fb478490>"
      ]
     },
     "execution_count": 75,
     "metadata": {},
     "output_type": "execute_result"
    }
   ],
   "source": [
    "callback = EarlyStopping(monitor='loss', patience=3, restore_best_weights=True)\n",
    "model.fit(X_train, y_train, epochs=50, callbacks=[callback])"
   ]
  },
  {
   "cell_type": "code",
   "execution_count": 76,
   "metadata": {},
   "outputs": [],
   "source": [
    "def accuracy(X, y):\n",
    "    print(X.shape, y.shape)\n",
    "    res = model.predict(X)\n",
    "    accuracy = (np.argmax(res, axis=1) == np.argmax(y, axis=1)).sum()/len(res)\n",
    "    return accuracy"
   ]
  },
  {
   "cell_type": "code",
   "execution_count": 77,
   "metadata": {},
   "outputs": [
    {
     "name": "stdout",
     "output_type": "stream",
     "text": [
      "(2794, 30, 126) (2794, 27)\n",
      "88/88 [==============================] - 1s 5ms/step\n",
      "0.9280601288475304\n",
      "(311, 30, 126) (311, 27)\n",
      "10/10 [==============================] - 0s 5ms/step\n",
      "0.9131832797427653\n"
     ]
    }
   ],
   "source": [
    "print(accuracy(X_train, y_train))\n",
    "print(accuracy(X_test, y_test))"
   ]
  },
  {
   "attachments": {},
   "cell_type": "markdown",
   "metadata": {},
   "source": [
    "# Save & Load Model"
   ]
  },
  {
   "cell_type": "code",
   "execution_count": 79,
   "metadata": {},
   "outputs": [
    {
     "name": "stdout",
     "output_type": "stream",
     "text": [
      "INFO:tensorflow:Assets written to: Model/GRU/assets\n"
     ]
    },
    {
     "name": "stderr",
     "output_type": "stream",
     "text": [
      "INFO:tensorflow:Assets written to: Model/GRU/assets\n"
     ]
    }
   ],
   "source": [
    "model.save(\"Model/GRU\")"
   ]
  },
  {
   "cell_type": "code",
   "execution_count": 80,
   "metadata": {},
   "outputs": [],
   "source": [
    "# model.save(\"Model/GRU\")\n",
    "model.save('model_0730.keras')"
   ]
  },
  {
   "cell_type": "code",
   "execution_count": 81,
   "metadata": {},
   "outputs": [
    {
     "name": "stderr",
     "output_type": "stream",
     "text": [
      "/Library/Frameworks/Python.framework/Versions/3.11/lib/python3.11/site-packages/keras/src/engine/training.py:3000: UserWarning: You are saving your model as an HDF5 file via `model.save()`. This file format is considered legacy. We recommend using instead the native Keras format, e.g. `model.save('my_model.keras')`.\n",
      "  saving_api.save_model(\n"
     ]
    }
   ],
   "source": [
    "model.save('model_0730.h5')"
   ]
  },
  {
   "cell_type": "code",
   "execution_count": 82,
   "metadata": {},
   "outputs": [],
   "source": [
    "from tensorflow.keras.models import load_model"
   ]
  },
  {
   "cell_type": "code",
   "execution_count": 83,
   "metadata": {},
   "outputs": [
    {
     "name": "stdout",
     "output_type": "stream",
     "text": [
      "Model: \"sequential_6\"\n",
      "_________________________________________________________________\n",
      " Layer (type)                Output Shape              Param #   \n",
      "=================================================================\n",
      " gru_12 (GRU)                (None, 30, 128)           98304     \n",
      "                                                                 \n",
      " gru_13 (GRU)                (None, 64)                37248     \n",
      "                                                                 \n",
      " dense_14 (Dense)            (None, 64)                4160      \n",
      "                                                                 \n",
      " dense_15 (Dense)            (None, 32)                2080      \n",
      "                                                                 \n",
      " dense_16 (Dense)            (None, 27)                891       \n",
      "                                                                 \n",
      "=================================================================\n",
      "Total params: 142683 (557.36 KB)\n",
      "Trainable params: 142683 (557.36 KB)\n",
      "Non-trainable params: 0 (0.00 Byte)\n",
      "_________________________________________________________________\n"
     ]
    }
   ],
   "source": [
    "new_model = load_model(\"Model/GRU\")\n",
    "new_model.summary()"
   ]
  },
  {
   "cell_type": "code",
   "execution_count": 84,
   "metadata": {
    "scrolled": true
   },
   "outputs": [
    {
     "name": "stdout",
     "output_type": "stream",
     "text": [
      "Model: \"sequential_6\"\n",
      "_________________________________________________________________\n",
      " Layer (type)                Output Shape              Param #   \n",
      "=================================================================\n",
      " gru_12 (GRU)                (None, 30, 128)           98304     \n",
      "                                                                 \n",
      " gru_13 (GRU)                (None, 64)                37248     \n",
      "                                                                 \n",
      " dense_14 (Dense)            (None, 64)                4160      \n",
      "                                                                 \n",
      " dense_15 (Dense)            (None, 32)                2080      \n",
      "                                                                 \n",
      " dense_16 (Dense)            (None, 27)                891       \n",
      "                                                                 \n",
      "=================================================================\n",
      "Total params: 142683 (557.36 KB)\n",
      "Trainable params: 142683 (557.36 KB)\n",
      "Non-trainable params: 0 (0.00 Byte)\n",
      "_________________________________________________________________\n"
     ]
    }
   ],
   "source": [
    "new_model = load_model(\"model_0730.h5\")\n",
    "new_model.summary()"
   ]
  },
  {
   "cell_type": "code",
   "execution_count": 85,
   "metadata": {},
   "outputs": [
    {
     "name": "stdout",
     "output_type": "stream",
     "text": [
      "(2794, 30, 126) (2794, 27)\n",
      "88/88 [==============================] - 0s 5ms/step\n",
      "0.9280601288475304\n"
     ]
    }
   ],
   "source": [
    "print(accuracy(X_train, y_train))"
   ]
  },
  {
   "cell_type": "code",
   "execution_count": 86,
   "metadata": {},
   "outputs": [
    {
     "name": "stdout",
     "output_type": "stream",
     "text": [
      "10/10 [==============================] - 0s 5ms/step\n",
      "0.9131832797427653\n"
     ]
    }
   ],
   "source": [
    "res = new_model.predict(X_test)\n",
    "accuracy = (np.argmax(res, axis=1) == np.argmax(y_test, axis=1)).sum()/len(res)\n",
    "print(accuracy)"
   ]
  },
  {
   "attachments": {},
   "cell_type": "markdown",
   "metadata": {},
   "source": [
    "# TFlite"
   ]
  },
  {
   "cell_type": "code",
   "execution_count": 17,
   "metadata": {},
   "outputs": [],
   "source": [
    "# import tensorflow as tf"
   ]
  },
  {
   "cell_type": "code",
   "execution_count": 18,
   "metadata": {},
   "outputs": [],
   "source": [
    "# converter = tf.lite.TFLiteConverter.from_keras_model(model)\n",
    "# converter.target_spec.supported_ops = [tf.lite.OpsSet.TFLITE_BUILTINS, tf.lite.OpsSet.SELECT_TF_OPS]\n",
    "# converter._experimental_lower_tensor_list_ops = False\n",
    "# tflite_model = converter.convert()\n",
    "\n",
    "# with open('my_model2.tflite', 'wb') as f:\n",
    "#     f.write(tflite_model)"
   ]
  },
  {
   "attachments": {},
   "cell_type": "markdown",
   "metadata": {},
   "source": [
    "# Realtime Test"
   ]
  },
  {
   "cell_type": "code",
   "execution_count": 135,
   "metadata": {},
   "outputs": [],
   "source": [
    "import cv2\n",
    "import mediapipe as mp"
   ]
  },
  {
   "cell_type": "code",
   "execution_count": 136,
   "metadata": {},
   "outputs": [],
   "source": [
    "mp_holistic = mp.solutions.holistic # Holistic model\n",
    "mp_drawing = mp.solutions.drawing_utils # Drawing utilities"
   ]
  },
  {
   "cell_type": "code",
   "execution_count": 144,
   "metadata": {},
   "outputs": [],
   "source": [
    "colors = [(245,117,16)] * 24\n",
    "def prob_viz(res, actions, input_frame, colors):\n",
    "    output_frame = input_frame.copy()\n",
    "    for num, prob in enumerate(res):\n",
    "        # cv2.rectangle(影像, 頂點座標, 對向頂點座標, 顏色, 線條寬度)\n",
    "        cv2.rectangle(output_frame, (0,60+num*17), (int(prob*100), 90+num*17), colors[num], -1) #17,17\n",
    "        cv2.putText(output_frame, actions[num], (0, 85+num*17), cv2.FONT_HERSHEY_SIMPLEX, 1, (255,255,255), 2, cv2.LINE_AA)\n",
    "    return output_frame"
   ]
  },
  {
   "cell_type": "code",
   "execution_count": 138,
   "metadata": {},
   "outputs": [],
   "source": [
    "def mediapipe_detection(image, model):\n",
    "    # Transfer image\n",
    "    image = cv2.cvtColor(image, cv2.COLOR_BGR2RGB)\n",
    "    image.flags.writeable = False\n",
    "    # Make prediction\n",
    "    results = model.process(image)\n",
    "    return results"
   ]
  },
  {
   "cell_type": "code",
   "execution_count": 139,
   "metadata": {},
   "outputs": [],
   "source": [
    "def draw_styled_landmarks(image, results):\n",
    "    # Draw pose connections\n",
    "    mp_drawing.draw_landmarks(\n",
    "        image, results.pose_landmarks, mp_holistic.POSE_CONNECTIONS,\n",
    "        mp_drawing.DrawingSpec(color=(80,22,10), thickness=2, circle_radius=4), \n",
    "        mp_drawing.DrawingSpec(color=(80,44,121), thickness=2, circle_radius=2)\n",
    "    )\n",
    "    # Draw left hand connections\n",
    "    mp_drawing.draw_landmarks(\n",
    "        image, results.left_hand_landmarks, mp_holistic.HAND_CONNECTIONS, \n",
    "        mp_drawing.DrawingSpec(color=(121,22,76), thickness=2, circle_radius=4), \n",
    "        mp_drawing.DrawingSpec(color=(121,44,250), thickness=2, circle_radius=2)\n",
    "    ) \n",
    "    # Draw right hand connections  \n",
    "    mp_drawing.draw_landmarks(\n",
    "        image, results.right_hand_landmarks, mp_holistic.HAND_CONNECTIONS, \n",
    "        mp_drawing.DrawingSpec(color=(245,117,66), thickness=2, circle_radius=4), \n",
    "        mp_drawing.DrawingSpec(color=(245,66,230), thickness=2, circle_radius=2)\n",
    "    ) "
   ]
  },
  {
   "cell_type": "code",
   "execution_count": 140,
   "metadata": {},
   "outputs": [],
   "source": [
    "def extract_keypoints_without_face(results):\n",
    "    pose = np.array([[res.x, res.y, res.z, res.visibility] for res in results.pose_landmarks.landmark]).flatten() if results.pose_landmarks else np.zeros(33*4)\n",
    "    lh = np.array([[res.x, res.y, res.z] for res in results.left_hand_landmarks.landmark]).flatten() if results.left_hand_landmarks else np.zeros(21*3)\n",
    "    rh = np.array([[res.x, res.y, res.z] for res in results.right_hand_landmarks.landmark]).flatten() if results.right_hand_landmarks else np.zeros(21*3)\n",
    "    return np.concatenate([lh, rh]) "
   ]
  },
  {
   "cell_type": "code",
   "execution_count": 141,
   "metadata": {},
   "outputs": [],
   "source": [
    "def get_dataset(data_path_trans):\n",
    "    input_texts = []\n",
    "    target_texts = []\n",
    "\n",
    "    input_characters = set()\n",
    "    target_characters = set()\n",
    "    with open(data_path_trans, 'r', encoding='utf-8') as f:\n",
    "        lines = f.read().split('\\n')\n",
    "    for line in lines:\n",
    "        input_text, target_text= line.split('   ')\n",
    "        # 用tab作用序列的开始，用\\n作为序列的结束\n",
    "        target_text = '\\t' + target_text + '\\n'\n",
    "\n",
    "        input_texts.append(input_text)\n",
    "        target_texts.append(target_text)\n",
    "        \n",
    "        for char in input_text:\n",
    "            if char not in input_characters:\n",
    "                input_characters.add(char)\n",
    "        for char in target_text:\n",
    "            if char not in target_characters:\n",
    "                target_characters.add(char)\n",
    "    return input_texts,target_texts,input_characters,target_characters\n",
    "\n",
    "\n",
    "#------------------------------------------#\n",
    "#   init初始化部分\n",
    "#------------------------------------------#\n",
    "\n",
    "# 获取数据集\n",
    "# input_texts為输入的英文手語序 target_texts為對應的中文口語序\n",
    "# input_characters用到的所有输入字符,如a,b,c,d,e,……,.,!等\n",
    "data_path_trans = 'EngToChinese.txt'\n",
    "input_texts,target_texts,input_characters,target_characters = get_dataset(data_path_trans)\n",
    "\n",
    "# 对字符进行排序\n",
    "input_characters = sorted(list(input_characters))\n",
    "target_characters = sorted(list(target_characters))\n",
    "\n",
    "# 计算共用到了什么字符\n",
    "num_encoder_tokens = len(input_characters)\n",
    "num_decoder_tokens = len(target_characters)\n",
    "# 计算出最长的序列是多长\n",
    "max_encoder_seq_length = max([len(txt) for txt in input_texts])\n",
    "max_decoder_seq_length = max([len(txt) for txt in target_texts])\n",
    "\n",
    "# 建立字母到数字的映射\n",
    "input_token_index = dict(\n",
    "    [(char, i) for i, char in enumerate(input_characters)])\n",
    "target_token_index = dict(\n",
    "    [(char, i) for i, char in enumerate(target_characters)])\n",
    "# 求數字到字母的映射\n",
    "reverse_target_char_index = dict(\n",
    "    (i, char) for char, i in target_token_index.items())\n",
    "    \n",
    "\n",
    "model_trans = load_model('model_0730.h5')"
   ]
  },
  {
   "cell_type": "code",
   "execution_count": 142,
   "metadata": {},
   "outputs": [],
   "source": [
    "def translate(model_opt):\n",
    "    # model_opt = 'check yes paper sign'\n",
    "    in_encoder = np.zeros((1, max_encoder_seq_length, num_encoder_tokens),dtype='float32')\n",
    "\n",
    "    for t, char in enumerate(model_opt):\n",
    "        in_encoder[0, t, input_token_index[char]] = 1.\n",
    "    in_encoder[0, t + 1:, input_token_index[' ']] = 1.\n",
    "\n",
    "    in_decoder = np.zeros((len(in_encoder), max_decoder_seq_length, num_decoder_tokens),dtype='float32')\n",
    "    in_decoder[:, 0, target_token_index[\"\\t\"]] = 1\n",
    "\n",
    "    # 生成 decoder 的 output\n",
    "    for i in range(max_decoder_seq_length - 1):\n",
    "        predict = model_trans.predict([in_encoder, in_decoder])\n",
    "        predict = predict.argmax(axis=-1)\n",
    "        predict_ = predict[:, i].ravel().tolist()\n",
    "        for j, x in enumerate(predict_):\n",
    "            in_decoder[j, i + 1, x] = 1 # 將每個預測出的 token 設為 decoder 下一個 timestsmp 的輸入\n",
    "\n",
    "    seq_index = 0\n",
    "    decoded_sentence = \"\"\n",
    "    output_seq = predict[seq_index, :].ravel().tolist()\n",
    "    for x in output_seq:\n",
    "        if reverse_target_char_index[x] == \"\\n\":\n",
    "            break\n",
    "        else:\n",
    "            decoded_sentence+=reverse_target_char_index[x]\n",
    "\n",
    "    # print('Input sentence:', model_opt)\n",
    "    # print('Decoded sentence:', decoded_sentence)\n",
    "    return decoded_sentence"
   ]
  },
  {
   "cell_type": "code",
   "execution_count": 143,
   "metadata": {},
   "outputs": [
    {
     "name": "stdout",
     "output_type": "stream",
     "text": [
      "1/1 [==============================] - 0s 9ms/step\n",
      "1\n"
     ]
    },
    {
     "ename": "IndexError",
     "evalue": "list index out of range",
     "output_type": "error",
     "traceback": [
      "\u001b[0;31m---------------------------------------------------------------------------\u001b[0m",
      "\u001b[0;31mIndexError\u001b[0m                                Traceback (most recent call last)",
      "Cell \u001b[0;32mIn[143], line 54\u001b[0m\n\u001b[1;32m     51\u001b[0m         sentence \u001b[39m=\u001b[39m sentence[\u001b[39m-\u001b[39m\u001b[39m5\u001b[39m:]\n\u001b[1;32m     53\u001b[0m     \u001b[39m# Viz probabilities\u001b[39;00m\n\u001b[0;32m---> 54\u001b[0m     frame \u001b[39m=\u001b[39m prob_viz(res, actions, frame, colors)\n\u001b[1;32m     56\u001b[0m current_time \u001b[39m=\u001b[39m time\u001b[39m.\u001b[39mtime()  \n\u001b[1;32m     57\u001b[0m \u001b[39mif\u001b[39;00m alarm_set \u001b[39mand\u001b[39;00m current_time \u001b[39m-\u001b[39m last_updated_time \u001b[39m>\u001b[39m\u001b[39m=\u001b[39m \u001b[39m10\u001b[39m:\n\u001b[1;32m     58\u001b[0m     \u001b[39m# 時間過10秒，將 sentence 放入下一個模型進行預測\u001b[39;00m\n",
      "Cell \u001b[0;32mIn[137], line 6\u001b[0m, in \u001b[0;36mprob_viz\u001b[0;34m(res, actions, input_frame, colors)\u001b[0m\n\u001b[1;32m      3\u001b[0m output_frame \u001b[39m=\u001b[39m input_frame\u001b[39m.\u001b[39mcopy()\n\u001b[1;32m      4\u001b[0m \u001b[39mfor\u001b[39;00m num, prob \u001b[39min\u001b[39;00m \u001b[39menumerate\u001b[39m(res):\n\u001b[1;32m      5\u001b[0m     \u001b[39m# cv2.rectangle(影像, 頂點座標, 對向頂點座標, 顏色, 線條寬度)\u001b[39;00m\n\u001b[0;32m----> 6\u001b[0m     cv2\u001b[39m.\u001b[39mrectangle(output_frame, (\u001b[39m0\u001b[39m,\u001b[39m60\u001b[39m\u001b[39m+\u001b[39mnum\u001b[39m*\u001b[39m\u001b[39m40\u001b[39m), (\u001b[39mint\u001b[39m(prob\u001b[39m*\u001b[39m\u001b[39m100\u001b[39m), \u001b[39m90\u001b[39m\u001b[39m+\u001b[39mnum\u001b[39m*\u001b[39m\u001b[39m40\u001b[39m), colors[num], \u001b[39m-\u001b[39m\u001b[39m1\u001b[39m) \u001b[39m#17,17\u001b[39;00m\n\u001b[1;32m      7\u001b[0m     cv2\u001b[39m.\u001b[39mputText(output_frame, actions[num], (\u001b[39m0\u001b[39m, \u001b[39m85\u001b[39m\u001b[39m+\u001b[39mnum\u001b[39m*\u001b[39m\u001b[39m17\u001b[39m), cv2\u001b[39m.\u001b[39mFONT_HERSHEY_SIMPLEX, \u001b[39m1\u001b[39m, (\u001b[39m255\u001b[39m,\u001b[39m255\u001b[39m,\u001b[39m255\u001b[39m), \u001b[39m2\u001b[39m, cv2\u001b[39m.\u001b[39mLINE_AA)\n\u001b[1;32m      8\u001b[0m \u001b[39mreturn\u001b[39;00m output_frame\n",
      "\u001b[0;31mIndexError\u001b[0m: list index out of range"
     ]
    }
   ],
   "source": [
    "# 1. New detection variables\n",
    "sequence = []\n",
    "sentence = []\n",
    "\n",
    "predictions = []\n",
    "threshold = 0.7\n",
    "alarm_set = False\n",
    "trans_result =\"\"\n",
    "\n",
    "cap = cv2.VideoCapture(0)\n",
    "# Set mediapipe model \n",
    "with mp_holistic.Holistic(min_detection_confidence=0.5, min_tracking_confidence=0.5) as holistic:\n",
    "    while cap.isOpened():\n",
    "        ret, frame = cap.read()\n",
    "        if not ret:\n",
    "            break\n",
    "\n",
    "        # Make detections\n",
    "        results = mediapipe_detection(frame, holistic)\n",
    "        # Draw landmarks\n",
    "        draw_styled_landmarks(frame, results)\n",
    "        \n",
    "        # 2. Prediction logic\n",
    "        keypoints = extract_keypoints_without_face(results)\n",
    "        if np.count_nonzero(keypoints) > 30:\n",
    "            sequence.append(keypoints)\n",
    "            sequence = sequence[-30:]\n",
    "        \n",
    "        if len(sequence) == 30:\n",
    "            res = new_model.predict(np.expand_dims(sequence, axis=0))[0]\n",
    "            print(actions[np.argmax(res)])\n",
    "            predictions.append(np.argmax(res))\n",
    "\n",
    "            \n",
    "            \n",
    "        #3. Viz logic\n",
    "            if np.unique(predictions[-10:])[0]==np.argmax(res): \n",
    "                if res[np.argmax(res)] > threshold: \n",
    "                    \n",
    "                    if len(sentence) > 0: \n",
    "                        if actions[np.argmax(res)] != sentence[-1]:\n",
    "                            sentence.append(actions[np.argmax(res)])\n",
    "                            last_updated_time = time.time()\n",
    "                            alarm_set = True\n",
    "                    else:\n",
    "                        sentence.append(actions[np.argmax(res)])\n",
    "                        last_updated_time = time.time()\n",
    "                        alarm_set = True\n",
    "\n",
    "            if len(sentence) > 5: \n",
    "                sentence = sentence[-5:]\n",
    "\n",
    "            # Viz probabilities\n",
    "            frame = prob_viz(res, actions, frame, colors)\n",
    "\n",
    "        current_time = time.time()  \n",
    "        if alarm_set and current_time - last_updated_time >= 10:\n",
    "            # 時間過10秒，將 sentence 放入下一個模型進行預測\n",
    "            trans_result = translate(' '.join(sentence))\n",
    "            print('---result---', trans_result)\n",
    "            # 清空 sentence 資料\n",
    "            alarm_set = False\n",
    "            sequence = []\n",
    "            sentence = []\n",
    "            \n",
    "        cv2.rectangle(frame, (0,0), (640, 40), (245, 117, 16), -1)\n",
    "        cv2.putText(frame, ' '.join(sentence), (3,30), \n",
    "                       cv2.FONT_HERSHEY_SIMPLEX, 1, (255, 255, 255), 2, cv2.LINE_AA)\n",
    "        cv2.putText(frame, trans_result, (300,30), \n",
    "                       cv2.FONT_HERSHEY_SIMPLEX, 1, (255, 255, 255), 2, cv2.LINE_AA)\n",
    "        \n",
    "        # Show to screen\n",
    "        cv2.imshow('OpenCV Feed', frame)\n",
    "\n",
    "        # Break gracefully\n",
    "        if cv2.waitKey(10) & 0xFF == ord('q'):\n",
    "            break\n",
    "    cap.release()\n",
    "    cv2.destroyAllWindows()"
   ]
  },
  {
   "cell_type": "markdown",
   "metadata": {},
   "source": [
    "## Testing\n"
   ]
  },
  {
   "cell_type": "code",
   "execution_count": 117,
   "metadata": {},
   "outputs": [
    {
     "ename": "KeyboardInterrupt",
     "evalue": "",
     "output_type": "error",
     "traceback": [
      "\u001b[0;31m---------------------------------------------------------------------------\u001b[0m",
      "\u001b[0;31mKeyboardInterrupt\u001b[0m                         Traceback (most recent call last)",
      "Cell \u001b[0;32mIn[117], line 11\u001b[0m\n\u001b[1;32m      9\u001b[0m \u001b[39mwith\u001b[39;00m mp_holistic\u001b[39m.\u001b[39mHolistic(min_detection_confidence\u001b[39m=\u001b[39m\u001b[39m0.5\u001b[39m, min_tracking_confidence\u001b[39m=\u001b[39m\u001b[39m0.5\u001b[39m) \u001b[39mas\u001b[39;00m holistic:\n\u001b[1;32m     10\u001b[0m     \u001b[39mwhile\u001b[39;00m cap\u001b[39m.\u001b[39misOpened():\n\u001b[0;32m---> 11\u001b[0m         ret, frame \u001b[39m=\u001b[39m cap\u001b[39m.\u001b[39;49mread()\n\u001b[1;32m     12\u001b[0m         \u001b[39mif\u001b[39;00m \u001b[39mnot\u001b[39;00m ret:\n\u001b[1;32m     13\u001b[0m             \u001b[39mbreak\u001b[39;00m\n",
      "\u001b[0;31mKeyboardInterrupt\u001b[0m: "
     ]
    }
   ],
   "source": [
    "# 1. New detection variables\n",
    "sequence = []\n",
    "sentence = []\n",
    "predictions = []\n",
    "threshold = 0.7\n",
    "\n",
    "cap = cv2.VideoCapture(0)\n",
    "# Set mediapipe model \n",
    "with mp_holistic.Holistic(min_detection_confidence=0.5, min_tracking_confidence=0.5) as holistic:\n",
    "    while cap.isOpened():\n",
    "        ret, frame = cap.read()\n",
    "        if not ret:\n",
    "            break\n",
    "\n",
    "        # Make detections\n",
    "        results = mediapipe_detection(frame, holistic)\n",
    "        # Draw landmarks\n",
    "        draw_styled_landmarks(frame, results)\n",
    "        \n",
    "        # 2. Prediction logic\n",
    "        keypoints = extract_keypoints_without_face(results)\n",
    "        if np.count_nonzero(keypoints) > 150:\n",
    "            sequence.append(keypoints)\n",
    "            sequence = sequence[-30:]\n",
    "        \n",
    "        if len(sequence) == 30:\n",
    "            res = new_model.predict(np.expand_dims(sequence, axis=0))[0]\n",
    "            # prediction = actions[np.argmax(res)]\n",
    "            # print(prediction)\n",
    "            # print(res[np.argmax(res)])\n",
    "            print(actions[np.argmax(res)])\n",
    "            predictions.append(np.argmax(res))\n",
    "            \n",
    "            \n",
    "        #3. Viz logic\n",
    "            if np.unique(predictions[-10:])[0]==np.argmax(res): \n",
    "                if res[np.argmax(res)] > threshold: \n",
    "                    \n",
    "                    if len(sentence) > 0: \n",
    "                        if actions[np.argmax(res)] != sentence[-1]:\n",
    "                            sentence.append(actions[np.argmax(res)])\n",
    "                    else:\n",
    "                        sentence.append(actions[np.argmax(res)])\n",
    "                        print(sentence)\n",
    "\n",
    "            if len(sentence) > 5: \n",
    "                sentence = sentence[-5:]\n",
    "\n",
    "            # Viz probabilities\n",
    "            frame = prob_viz(res, actions, frame, colors)\n",
    "            \n",
    "        cv2.rectangle(frame, (0,0), (640, 40), (245, 117, 16), -1)\n",
    "        cv2.putText(frame, ' '.join(sentence), (3,30), \n",
    "                       cv2.FONT_HERSHEY_SIMPLEX, 1, (255, 255, 255), 2, cv2.LINE_AA)\n",
    "        \n",
    "        # Show to screen\n",
    "        cv2.imshow('OpenCV Feed', frame)\n",
    "\n",
    "        # Break gracefully\n",
    "        if cv2.waitKey(10) & 0xFF == ord('q'):\n",
    "            break\n",
    "    cap.release()\n",
    "    cv2.destroyAllWindows()"
   ]
  }
 ],
 "metadata": {
  "kernelspec": {
   "display_name": "Python 3 (ipykernel)",
   "language": "python",
   "name": "python3"
  },
  "language_info": {
   "codemirror_mode": {
    "name": "ipython",
    "version": 3
   },
   "file_extension": ".py",
   "mimetype": "text/x-python",
   "name": "python",
   "nbconvert_exporter": "python",
   "pygments_lexer": "ipython3",
   "version": "3.10.0"
  }
 },
 "nbformat": 4,
 "nbformat_minor": 4
}
