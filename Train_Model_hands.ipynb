{
 "cells": [
  {
   "cell_type": "code",
   "execution_count": 1,
   "metadata": {},
   "outputs": [],
   "source": [
    "import os\n",
    "import numpy as np\n",
    "import time\n",
    "from sklearn.model_selection import train_test_split\n",
    "from tensorflow.keras.utils import to_categorical"
   ]
  },
  {
   "attachments": {},
   "cell_type": "markdown",
   "metadata": {},
   "source": [
    "## Load Data"
   ]
  },
  {
   "cell_type": "code",
   "execution_count": 2,
   "metadata": {},
   "outputs": [
    {
     "data": {
      "text/plain": [
       "(2760, 30, 126)"
      ]
     },
     "execution_count": 2,
     "metadata": {},
     "output_type": "execute_result"
    }
   ],
   "source": [
    "# 1. 打包模組需要的 Dataset\n",
    "sequences = np.load(os.path.join('data-merge-service1-0924.npy'))\n",
    "headsSequences = sequences[:, :, 132:258]\n",
    "headsSequences.shape"
   ]
  },
  {
   "cell_type": "code",
   "execution_count": 3,
   "metadata": {},
   "outputs": [
    {
     "name": "stdout",
     "output_type": "stream",
     "text": [
      "{'0': 0, '1': 1, '2': 2, '3': 3, '4': 4, '5': 5, '6': 6, '7': 7, '8': 8, '9': 9, 'check': 10, 'finish': 11, 'give_you': 12, 'good': 13, 'i': 14, 'id_card': 15, 'is': 16, 'money': 17, 'saving_book': 18, 'sign': 19, 'taiwan': 20, 'take': 21, 'ten_thousand': 22, 'yes': 23}\n",
      "24\n"
     ]
    }
   ],
   "source": [
    "# 2. 模組需要的字詞 Labels\n",
    "actions = np.array(['0', '1', '2', '3', '4', '5', '6', '7', '8', '9', 'check', 'finish', 'give_you',\n",
    "                   'good', 'i', 'id_card', 'is', 'money', 'saving_book', 'sign', 'taiwan', 'take', 'ten_thousand', 'yes'])\n",
    "\n",
    "\n",
    "label_map = {label:num for num, label in enumerate(actions)}\n",
    "print(label_map)\n",
    "print(actions.shape[0])"
   ]
  },
  {
   "cell_type": "code",
   "execution_count": 4,
   "metadata": {},
   "outputs": [
    {
     "name": "stdout",
     "output_type": "stream",
     "text": [
      "[['0', 0], ['1', 1], ['2', 2], ['3', 3], ['4', 4], ['5', 5], ['6', 6], ['7', 7], ['8', 8], ['9', 9], ['check', 10], ['finish', 11], ['give_you', 12], ['good', 13], ['i', 14], ['id_card', 15], ['is', 16], ['money', 17], ['saving_book', 18], ['sign', 19], ['taiwan', 20], ['take', 21], ['ten_thousand', 22], ['yes', 23]]\n"
     ]
    }
   ],
   "source": [
    "# 115 是每個字詞的資料量，可以再修改\n",
    "labels = []\n",
    "for action in actions:\n",
    "    for _ in range(115):\n",
    "        labels.append(label_map[action])\n",
    "print([[actions[l], l] for l in labels[::115]])"
   ]
  },
  {
   "cell_type": "code",
   "execution_count": 5,
   "metadata": {},
   "outputs": [
    {
     "name": "stdout",
     "output_type": "stream",
     "text": [
      "(2760, 30, 126)\n",
      "(2484, 30, 126)\n",
      "(276, 30, 126)\n"
     ]
    }
   ],
   "source": [
    "# Reshape (-1,30,126) 是讓所有的資料變成z:258, y:30 的array\n",
    "X = headsSequences.reshape(-1,30,126)\n",
    "y = to_categorical(labels).astype(int)\n",
    "X_train, X_test, y_train, y_test = train_test_split(X, y, test_size=0.1)\n",
    "print(X.shape)\n",
    "print(X_train.shape)\n",
    "print(X_test.shape)"
   ]
  },
  {
   "attachments": {},
   "cell_type": "markdown",
   "metadata": {},
   "source": [
    "## Load Data - model 2"
   ]
  },
  {
   "cell_type": "code",
   "execution_count": null,
   "metadata": {},
   "outputs": [],
   "source": [
    "def get_dataset(data_path_trans):\n",
    "    input_texts = []\n",
    "    target_texts = []\n",
    "\n",
    "    input_characters = set()\n",
    "    target_characters = set()\n",
    "    with open(data_path_trans, 'r', encoding='utf-8') as f:\n",
    "        lines = f.read().split('\\n')\n",
    "    for line in lines:\n",
    "        input_text, target_text= line.split('   ')\n",
    "        # 用tab作用序列的开始，用\\n作为序列的结束\n",
    "        target_text = '\\t' + target_text + '\\n'\n",
    "\n",
    "        input_texts.append(input_text)\n",
    "        target_texts.append(target_text)\n",
    "        \n",
    "        for char in input_text:\n",
    "            if char not in input_characters:\n",
    "                input_characters.add(char)\n",
    "        for char in target_text:\n",
    "            if char not in target_characters:\n",
    "                target_characters.add(char)\n",
    "    return input_texts,target_texts,input_characters,target_characters\n",
    "\n",
    "\n",
    "#------------------------------------------#\n",
    "#   init初始化部分\n",
    "#------------------------------------------#\n",
    "\n",
    "# 获取数据集\n",
    "# input_texts為输入的英文手語序 target_texts為對應的中文口語序\n",
    "# input_characters用到的所有输入字符,如a,b,c,d,e,……,.,!等\n",
    "data_path_trans = 'EngToChinese_service1_1029.txt'\n",
    "input_texts,target_texts,input_characters,target_characters = get_dataset(data_path_trans)\n",
    "\n",
    "# 对字符进行排序\n",
    "input_characters = sorted(list(input_characters))\n",
    "target_characters = sorted(list(target_characters))\n",
    "\n",
    "# 计算共用到了什么字符\n",
    "num_encoder_tokens = len(input_characters)\n",
    "num_decoder_tokens = len(target_characters)\n",
    "# 计算出最长的序列是多长\n",
    "max_encoder_seq_length = max([len(txt) for txt in input_texts])\n",
    "max_decoder_seq_length = max([len(txt) for txt in target_texts])\n",
    "\n",
    "# 建立字母到数字的映射\n",
    "input_token_index = dict(\n",
    "    [(char, i) for i, char in enumerate(input_characters)])\n",
    "target_token_index = dict(\n",
    "    [(char, i) for i, char in enumerate(target_characters)])\n",
    "# 求數字到字母的映射\n",
    "reverse_target_char_index = dict(\n",
    "    (i, char) for char, i in target_token_index.items())"
   ]
  },
  {
   "attachments": {},
   "cell_type": "markdown",
   "metadata": {},
   "source": [
    "# Train model "
   ]
  },
  {
   "cell_type": "code",
   "execution_count": 6,
   "metadata": {},
   "outputs": [],
   "source": [
    "from tensorflow.keras.models import Sequential\n",
    "from tensorflow.keras.layers import LSTM, Dense, GRU\n",
    "from tensorflow.keras.callbacks import TensorBoard, EarlyStopping"
   ]
  },
  {
   "cell_type": "code",
   "execution_count": 7,
   "metadata": {},
   "outputs": [],
   "source": [
    "model = Sequential()\n",
    "model.add(GRU(64, activation='relu', input_shape=(30,126))) # LSTM -> GRU\n",
    "model.add(Dense(64, activation='relu'))\n",
    "model.add(Dense(actions.shape[0], activation='softmax'))\n",
    "model.compile(optimizer='Adam', loss='categorical_crossentropy', metrics=['categorical_accuracy'])\n",
    "model.summary()"
   ]
  },
  {
   "cell_type": "code",
   "execution_count": 8,
   "metadata": {},
   "outputs": [],
   "source": [
    "callback = EarlyStopping(monitor='loss', patience=3, restore_best_weights=True)\n",
    "model.fit(X_train, y_train, epochs=50, callbacks=[callback])"
   ]
  },
  {
   "cell_type": "code",
   "execution_count": 9,
   "metadata": {},
   "outputs": [],
   "source": [
    "def accuracy(X, y):\n",
    "    print(X.shape, y.shape)\n",
    "    res = model.predict(X)\n",
    "    accuracy = (np.argmax(res, axis=1) == np.argmax(y, axis=1)).sum()/len(res)\n",
    "    return accuracy"
   ]
  },
  {
   "cell_type": "code",
   "execution_count": 10,
   "metadata": {},
   "outputs": [],
   "source": [
    "print(accuracy(X_train, y_train))\n",
    "print(accuracy(X_test, y_test))"
   ]
  },
  {
   "attachments": {},
   "cell_type": "markdown",
   "metadata": {},
   "source": [
    "## Train Model - model 2"
   ]
  },
  {
   "cell_type": "code",
   "execution_count": null,
   "metadata": {},
   "outputs": [],
   "source": [
    "from keras.models import Model\n",
    "from keras.layers import Input, Dense\n",
    "from keras.layers import Dot, Activation, Concatenate, Dropout\n",
    "import keras.backend as K"
   ]
  },
  {
   "cell_type": "code",
   "execution_count": null,
   "metadata": {},
   "outputs": [],
   "source": [
    "#   改變数据集格式 -> 將原始文本數據轉換為模型所需的數字表示形式\n",
    "encoder_input_data = np.zeros(\n",
    "    (len(input_texts), max_encoder_seq_length, num_encoder_tokens),\n",
    "    dtype='float32')\n",
    "decoder_input_data = np.zeros(\n",
    "    (len(input_texts), max_decoder_seq_length, num_decoder_tokens),\n",
    "    dtype='float32')\n",
    "decoder_target_data = np.zeros(\n",
    "    (len(input_texts), max_decoder_seq_length, num_decoder_tokens),\n",
    "    dtype='float32')\n",
    "\n",
    "\n",
    "for i, (input_text, target_text) in enumerate(zip(input_texts, target_texts)):\n",
    "    # 末尾加上\" \"空格\n",
    "    for t, char in enumerate(input_text):\n",
    "        encoder_input_data[i, t, input_token_index[char]] = 1.\n",
    "    encoder_input_data[i, t + 1:, input_token_index[' ']] = 1.\n",
    "    # 相當于前一个内容的識別结果，作為輸入，傳入到decoder中\n",
    "    for t, char in enumerate(target_text):\n",
    "        decoder_input_data[i, t, target_token_index[char]] = 1.\n",
    "        if t > 0:\n",
    "            decoder_target_data[i, t - 1, target_token_index[char]] = 1.\n",
    "    decoder_input_data[i, t + 1:, target_token_index[' ']] = 1.\n",
    "    decoder_target_data[i, t:, target_token_index[' ']] = 1."
   ]
  },
  {
   "cell_type": "code",
   "execution_count": null,
   "metadata": {},
   "outputs": [],
   "source": [
    "batch_size = 64\n",
    "epochs = 60\n",
    "latent_dim = 256\n",
    "\n",
    "encoder_inputs = Input(shape=(None, num_encoder_tokens))\n",
    "\n",
    "x_encoder, _, _ = LSTM(latent_dim,return_sequences=True, return_state=True)(encoder_inputs)\n",
    "x_encoder = Dropout(0.5)(x_encoder)\n",
    "x_encoder, state_h, state_c = LSTM(latent_dim,return_sequences=True, return_state=True)(encoder_inputs)\n",
    "x_encoder = Dropout(0.5)(x_encoder)\n",
    "\n",
    "decoder_inputs = Input(shape=(None, num_decoder_tokens))\n",
    "\n",
    "x_decoder = LSTM(latent_dim,return_sequences=True)(decoder_inputs)\n",
    "x_decoder = Dropout(0.5)(x_decoder)\n",
    "# Attention\n",
    "attention = Dot(axes=[2, 2])([x_decoder, x_encoder]) \n",
    "attention = Activation('softmax')(attention)\n",
    "\n",
    "context = Dot(axes=[2, 1])([attention, x_encoder])\n",
    "decoder_combined_context = Concatenate(axis=-1)([context, x_decoder])\n",
    "x_decoder = LSTM(int(latent_dim/2),return_sequences=True)(decoder_combined_context)\n",
    "x_decoder = Dropout(0.5)(x_decoder)\n",
    "# Output\n",
    "decoder_dense = Dense(num_decoder_tokens, activation='softmax')\n",
    "decoder_outputs = decoder_dense(x_decoder)\n",
    "\n",
    "model_order = Model([encoder_inputs, decoder_inputs], decoder_outputs)\n",
    "model_order.summary()\n",
    "# Run training\n",
    "model_order.compile(optimizer='adam', loss='categorical_crossentropy', metrics=['accuracy'])\n",
    "model_order.fit([encoder_input_data, decoder_input_data], decoder_target_data,\n",
    "          batch_size=batch_size,\n",
    "          epochs=epochs)"
   ]
  },
  {
   "attachments": {},
   "cell_type": "markdown",
   "metadata": {},
   "source": [
    "# Save & Load Model"
   ]
  },
  {
   "cell_type": "code",
   "execution_count": 11,
   "metadata": {},
   "outputs": [],
   "source": [
    "model.save('Model/model1_service3_1001.keras')\n",
    "model_order.save('Model/model2_service1_1029.h5')"
   ]
  },
  {
   "cell_type": "code",
   "execution_count": 12,
   "metadata": {},
   "outputs": [],
   "source": [
    "from tensorflow.keras.models import load_model"
   ]
  },
  {
   "cell_type": "code",
   "execution_count": null,
   "metadata": {
    "scrolled": true
   },
   "outputs": [
    {
     "name": "stderr",
     "output_type": "stream",
     "text": [
      "WARNING:absl:At this time, the v2.11+ optimizer `tf.keras.optimizers.Adam` runs slowly on M1/M2 Macs, please use the legacy Keras optimizer instead, located at `tf.keras.optimizers.legacy.Adam`.\n",
      "WARNING:absl:There is a known slowdown when using v2.11+ Keras optimizers on M1/M2 Macs. Falling back to the legacy Keras optimizer, i.e., `tf.keras.optimizers.legacy.Adam`.\n"
     ]
    },
    {
     "name": "stdout",
     "output_type": "stream",
     "text": [
      "WARNING:tensorflow:Error in loading the saved optimizer state. As a result, your model is starting with a freshly initialized optimizer.\n"
     ]
    },
    {
     "name": "stderr",
     "output_type": "stream",
     "text": [
      "WARNING:tensorflow:Error in loading the saved optimizer state. As a result, your model is starting with a freshly initialized optimizer.\n"
     ]
    },
    {
     "name": "stdout",
     "output_type": "stream",
     "text": [
      "Model: \"sequential\"\n",
      "_________________________________________________________________\n",
      " Layer (type)                Output Shape              Param #   \n",
      "=================================================================\n",
      " gru (GRU)                   (None, 64)                36864     \n",
      "                                                                 \n",
      " dense (Dense)               (None, 64)                4160      \n",
      "                                                                 \n",
      " dense_1 (Dense)             (None, 24)                1560      \n",
      "                                                                 \n",
      "=================================================================\n",
      "Total params: 42584 (166.34 KB)\n",
      "Trainable params: 42584 (166.34 KB)\n",
      "Non-trainable params: 0 (0.00 Byte)\n",
      "_________________________________________________________________\n"
     ]
    }
   ],
   "source": [
    "new_model = load_model('Model/model1_service1_0924.keras')\n",
    "new_model_order = load_model(\"Model/model2_service1_1029.h5\")\n",
    "new_model.summary()"
   ]
  },
  {
   "cell_type": "code",
   "execution_count": 14,
   "metadata": {},
   "outputs": [],
   "source": [
    "print(accuracy(X_train, y_train))"
   ]
  },
  {
   "cell_type": "code",
   "execution_count": 15,
   "metadata": {},
   "outputs": [
    {
     "name": "stdout",
     "output_type": "stream",
     "text": [
      "9/9 [==============================] - 0s 2ms/step\n",
      "0.9782608695652174\n"
     ]
    }
   ],
   "source": [
    "res = new_model.predict(X_test)\n",
    "accuracy = (np.argmax(res, axis=1) == np.argmax(y_test, axis=1)).sum()/len(res)\n",
    "print(accuracy)"
   ]
  },
  {
   "attachments": {},
   "cell_type": "markdown",
   "metadata": {},
   "source": [
    "# TFlite"
   ]
  },
  {
   "cell_type": "code",
   "execution_count": 16,
   "metadata": {},
   "outputs": [],
   "source": [
    "# import tensorflow as tf"
   ]
  },
  {
   "cell_type": "code",
   "execution_count": 17,
   "metadata": {},
   "outputs": [],
   "source": [
    "# converter = tf.lite.TFLiteConverter.from_keras_model(model)\n",
    "# converter.target_spec.supported_ops = [tf.lite.OpsSet.TFLITE_BUILTINS, tf.lite.OpsSet.SELECT_TF_OPS]\n",
    "# converter._experimental_lower_tensor_list_ops = False\n",
    "# tflite_model = converter.convert()\n",
    "\n",
    "# with open('my_model2.tflite', 'wb') as f:\n",
    "#     f.write(tflite_model)"
   ]
  },
  {
   "attachments": {},
   "cell_type": "markdown",
   "metadata": {},
   "source": [
    "# Realtime Test"
   ]
  },
  {
   "cell_type": "code",
   "execution_count": 18,
   "metadata": {},
   "outputs": [],
   "source": [
    "import cv2\n",
    "import mediapipe as mp\n",
    "from collections import Counter"
   ]
  },
  {
   "cell_type": "code",
   "execution_count": 19,
   "metadata": {},
   "outputs": [],
   "source": [
    "mp_holistic = mp.solutions.holistic # Holistic model\n",
    "mp_drawing = mp.solutions.drawing_utils # Drawing utilities"
   ]
  },
  {
   "cell_type": "code",
   "execution_count": 20,
   "metadata": {},
   "outputs": [],
   "source": [
    "colors = [(245,117,16)] * 24\n",
    "def prob_viz(res, actions, input_frame, colors):\n",
    "    output_frame = input_frame.copy()\n",
    "    for num, prob in enumerate(res):\n",
    "        # cv2.rectangle(影像, 頂點座標, 對向頂點座標, 顏色, 線條寬度)\n",
    "        cv2.rectangle(output_frame, (0,60+num*17), (int(prob*100), 90+num*17), colors[num], -1)\n",
    "        cv2.putText(output_frame, actions[num], (0, 85+num*17), cv2.FONT_HERSHEY_SIMPLEX, 1, (255,255,255), 2, cv2.LINE_AA)\n",
    "    return output_frame"
   ]
  },
  {
   "cell_type": "code",
   "execution_count": 21,
   "metadata": {},
   "outputs": [],
   "source": [
    "def mediapipe_detection(image, model):\n",
    "    # Transfer image\n",
    "    image = cv2.cvtColor(image, cv2.COLOR_BGR2RGB)\n",
    "    image.flags.writeable = False\n",
    "    # Make prediction\n",
    "    results = model.process(image)\n",
    "    return results"
   ]
  },
  {
   "cell_type": "code",
   "execution_count": 22,
   "metadata": {},
   "outputs": [],
   "source": [
    "def draw_styled_landmarks(image, results):\n",
    "    # Draw pose connections\n",
    "    mp_drawing.draw_landmarks(\n",
    "        image, results.pose_landmarks, mp_holistic.POSE_CONNECTIONS,\n",
    "        mp_drawing.DrawingSpec(color=(80,22,10), thickness=2, circle_radius=4), \n",
    "        mp_drawing.DrawingSpec(color=(80,44,121), thickness=2, circle_radius=2)\n",
    "    )\n",
    "    # Draw left hand connections\n",
    "    mp_drawing.draw_landmarks(\n",
    "        image, results.left_hand_landmarks, mp_holistic.HAND_CONNECTIONS, \n",
    "        mp_drawing.DrawingSpec(color=(121,22,76), thickness=2, circle_radius=4), \n",
    "        mp_drawing.DrawingSpec(color=(121,44,250), thickness=2, circle_radius=2)\n",
    "    ) \n",
    "    # Draw right hand connections  \n",
    "    mp_drawing.draw_landmarks(\n",
    "        image, results.right_hand_landmarks, mp_holistic.HAND_CONNECTIONS, \n",
    "        mp_drawing.DrawingSpec(color=(245,117,66), thickness=2, circle_radius=4), \n",
    "        mp_drawing.DrawingSpec(color=(245,66,230), thickness=2, circle_radius=2)\n",
    "    ) "
   ]
  },
  {
   "cell_type": "code",
   "execution_count": 23,
   "metadata": {},
   "outputs": [],
   "source": [
    "def extract_keypoints_without_face(results):\n",
    "    pose = np.array([[res.x, res.y, res.z, res.visibility] for res in results.pose_landmarks.landmark]).flatten() if results.pose_landmarks else np.zeros(33*4)\n",
    "    lh = np.array([[res.x, res.y, res.z] for res in results.left_hand_landmarks.landmark]).flatten() if results.left_hand_landmarks else np.zeros(21*3)\n",
    "    rh = np.array([[res.x, res.y, res.z] for res in results.right_hand_landmarks.landmark]).flatten() if results.right_hand_landmarks else np.zeros(21*3)\n",
    "    return np.concatenate([lh, rh]) "
   ]
  },
  {
   "cell_type": "code",
   "execution_count": 25,
   "metadata": {},
   "outputs": [],
   "source": [
    "def translate(model_opt):\n",
    "    in_encoder = np.zeros((1, max_encoder_seq_length, num_encoder_tokens),dtype='float32')\n",
    "\n",
    "    for t, char in enumerate(model_opt):\n",
    "        in_encoder[0, t, input_token_index[char]] = 1.\n",
    "    in_encoder[0, t + 1:, input_token_index[' ']] = 1.\n",
    "\n",
    "    in_decoder = np.zeros((len(in_encoder), max_decoder_seq_length, num_decoder_tokens),dtype='float32')\n",
    "    in_decoder[:, 0, target_token_index[\"\\t\"]] = 1\n",
    "\n",
    "    # 生成 decoder 的 output\n",
    "    for i in range(max_decoder_seq_length - 1):\n",
    "        predict = new_model_order.predict([in_encoder, in_decoder])\n",
    "        predict = predict.argmax(axis=-1)\n",
    "        predict_ = predict[:, i].ravel().tolist()\n",
    "        for j, x in enumerate(predict_):\n",
    "            in_decoder[j, i + 1, x] = 1 # 將每個預測出的 token 設為 decoder 下一個 timestamp 的輸入\n",
    "\n",
    "    seq_index = 0\n",
    "    decoded_sentence = \"\"\n",
    "    output_seq = predict[seq_index, :].ravel().tolist()\n",
    "    for x in output_seq:\n",
    "        if reverse_target_char_index[x] == \"\\n\":\n",
    "            break\n",
    "        else:\n",
    "            decoded_sentence+=reverse_target_char_index[x]\n",
    "\n",
    "    return decoded_sentence"
   ]
  },
  {
   "cell_type": "code",
   "execution_count": 26,
   "metadata": {},
   "outputs": [
    {
     "name": "stderr",
     "output_type": "stream",
     "text": [
      "INFO: Created TensorFlow Lite XNNPACK delegate for CPU.\n",
      "2023-10-17 13:05:18.495 Python[54326:1231852] WARNING: Secure coding is not enabled for restorable state! Enable secure coding by implementing NSApplicationDelegate.applicationSupportsSecureRestorableState: and returning YES.\n"
     ]
    },
    {
     "name": "stdout",
     "output_type": "stream",
     "text": [
      "1/1 [==============================] - 0s 12ms/step\n",
      "1/1 [==============================] - 0s 12ms/step\n",
      "1/1 [==============================] - 0s 12ms/step\n"
     ]
    },
    {
     "ename": "",
     "evalue": "",
     "output_type": "error",
     "traceback": [
      "\u001b[1;31m在目前儲存格或上一個儲存格中執行程式碼時，Kernel 已損毀。請檢閱儲存格中的程式碼，找出失敗的可能原因。如需詳細資訊，請按一下<a href='https://aka.ms/vscodeJupyterKernelCrash'>這裡</a>。檢視 Jupyter <a href='command:jupyter.viewOutput'>記錄</a>，以取得進一步的詳細資料。"
     ]
    }
   ],
   "source": [
    "# 1. New detection variables\n",
    "sequence = []\n",
    "sentence = []\n",
    "predictions = []\n",
    "threshold = 0.7\n",
    "alarm_set = False\n",
    "trans_result =\"\"\n",
    "\n",
    "cap = cv2.VideoCapture(0)\n",
    "# Set mediapipe model \n",
    "with mp_holistic.Holistic(min_detection_confidence=0.5, min_tracking_confidence=0.5) as holistic:\n",
    "    while cap.isOpened():\n",
    "        ret, frame = cap.read()\n",
    "        if not ret:\n",
    "            break\n",
    "\n",
    "        # Make detections\n",
    "        results = mediapipe_detection(frame, holistic)\n",
    "        # Draw landmarks\n",
    "        draw_styled_landmarks(frame, results)\n",
    "        \n",
    "        # 2. Prediction logic\n",
    "        keypoints = extract_keypoints_without_face(results)\n",
    "        if np.count_nonzero(keypoints) > 30:\n",
    "            sequence.append(keypoints)\n",
    "            sequence = sequence[-30:]\n",
    "        \n",
    "        if len(sequence) == 30:\n",
    "            res = new_model.predict(np.expand_dims(sequence, axis=0))[0]\n",
    "            if res[np.argmax(res)] > threshold: \n",
    "                predictions.append(np.argmax(res))\n",
    "\n",
    "\n",
    "            \n",
    "            \n",
    "        #3. Viz logic\n",
    "            if Counter(predictions[-10:]).most_common(1)[0][0]==np.argmax(res):      \n",
    "                if len(sentence) > 0: \n",
    "                    if actions[np.argmax(res)] != sentence[-1]:\n",
    "                        sentence.append(actions[np.argmax(res)])\n",
    "                        sequence = []\n",
    "                        last_updated_time = time.time()\n",
    "                        alarm_set = True\n",
    "                else:\n",
    "                    sentence.append(actions[np.argmax(res)])\n",
    "                    sequence = []\n",
    "                    last_updated_time = time.time()\n",
    "                    alarm_set = True\n",
    "\n",
    "            if len(sentence) > 5: \n",
    "                sentence = sentence[-5:]\n",
    "\n",
    "            # Viz probabilities\n",
    "            frame = prob_viz(res, actions, frame, colors)\n",
    "\n",
    "        current_time = time.time()  \n",
    "        if alarm_set and current_time - last_updated_time >= 10:\n",
    "            # 時間過10秒，將 sentence 放入下一個模型進行預測\n",
    "            trans_result = translate(' '.join(sentence))\n",
    "            print('---result---', trans_result)\n",
    "            # 清空 sentence 資料\n",
    "            alarm_set = False\n",
    "            sequence = []\n",
    "            sentence = []\n",
    "            \n",
    "        cv2.rectangle(frame, (0,0), (640, 40), (245, 117, 16), -1)\n",
    "        cv2.putText(frame, ' '.join(sentence), (3,30), \n",
    "                       cv2.FONT_HERSHEY_SIMPLEX, 1, (255, 255, 255), 2, cv2.LINE_AA)\n",
    "        \n",
    "        # Show to screen\n",
    "        cv2.imshow('OpenCV Feed', frame)\n",
    "\n",
    "        # Break gracefully\n",
    "        if cv2.waitKey(10) & 0xFF == ord('q'):\n",
    "            break\n",
    "    cap.release()\n",
    "    cv2.destroyAllWindows()"
   ]
  }
 ],
 "metadata": {
  "kernelspec": {
   "display_name": "Python 3 (ipykernel)",
   "language": "python",
   "name": "python3"
  },
  "language_info": {
   "codemirror_mode": {
    "name": "ipython",
    "version": 3
   },
   "file_extension": ".py",
   "mimetype": "text/x-python",
   "name": "python",
   "nbconvert_exporter": "python",
   "pygments_lexer": "ipython3",
   "version": "3.11.2"
  }
 },
 "nbformat": 4,
 "nbformat_minor": 4
}
